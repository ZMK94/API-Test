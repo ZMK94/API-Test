{
 "cells": [
  {
   "cell_type": "markdown",
   "metadata": {},
   "source": [
    "# ISS Visibility Notebook\n",
    "\n",
    "This notebook will demonstrate a few powerful data minig tools to gather the location of the ISS and the weather conditions at the corresponding coordinates to check cloud conditions as that location. \n",
    "This data will be formatted into a PANDAS data frame then exported to a CSV file that could be used by other applications. "
   ]
  },
  {
   "cell_type": "markdown",
   "metadata": {},
   "source": [
    "## Using API to get  ISS data from the web"
   ]
  },
  {
   "cell_type": "markdown",
   "metadata": {},
   "source": [
    "This section will perform a basic API call and confirm that everything is working. First we will check our request reponse is valid. This data will be pulled from the open notify api, to learn more about this API check here http://open-notify.org/Open-Notify-API/"
   ]
  },
  {
   "cell_type": "code",
   "execution_count": 1,
   "metadata": {},
   "outputs": [
    {
     "name": "stdout",
     "output_type": "stream",
     "text": [
      "200\n"
     ]
    }
   ],
   "source": [
    "import requests\n",
    "# using the requests library we will request data from open notify.org\n",
    "response = requests.get(\"http://api.open-notify.org/iss-now.json\")\n",
    "print(response.status_code)"
   ]
  },
  {
   "cell_type": "markdown",
   "metadata": {},
   "source": [
    "We will then check to see what data is recieved from a request."
   ]
  },
  {
   "cell_type": "code",
   "execution_count": 2,
   "metadata": {},
   "outputs": [
    {
     "name": "stdout",
     "output_type": "stream",
     "text": [
      "{'timestamp': 1645203834, 'message': 'success', 'iss_position': {'latitude': '-51.3401', 'longitude': '60.5445'}}\n"
     ]
    }
   ],
   "source": [
    "import time\n",
    "import pandas as pd\n",
    "import json\n",
    "\n",
    "#test the output\n",
    "response = requests.get(\"http://api.open-notify.org/iss-now.json\")\n",
    "print(response.json())"
   ]
  },
  {
   "cell_type": "markdown",
   "metadata": {},
   "source": [
    "## Building our dataset using two Data Sources\n",
    "\n",
    "This section will build our PANDAS data frame by requesting data every 10 minutes from open notify, then using the location data to pull data from the open weather map API (https://openweathermap.org/) and record both. The last step will be to save this data as a .CSV file that can be shared with other developers.\n",
    "\n",
    "This simple example will only collect 10 rows of data however it would be easy to run this script as long as desired and to collect data at any interval desired. "
   ]
  },
  {
   "cell_type": "code",
   "execution_count": 3,
   "metadata": {
    "scrolled": true
   },
   "outputs": [],
   "source": [
    "ISS_data = pd.DataFrame(columns=[\"Longitude\", \"Latitude\", \"Timestamp\", \"Visibility\"])\n",
    "\n",
    "for i in range(0,10):\n",
    "    #get the ISS location data\n",
    "    response = requests.get(\"http://api.open-notify.org/iss-now.json\")\n",
    "    json_response = response.json()\n",
    "    longitude = json_response['iss_position']['longitude']\n",
    "    latitude = json_response['iss_position']['latitude']\n",
    "    timestamp = json_response['timestamp']\n",
    "    \n",
    "    # get the the weather data\n",
    "    \n",
    "    api_key = \"37fa799589f4045eb619e2a8d359f95a\"\n",
    "    url = \"https://api.openweathermap.org/data/2.5/onecall?lat=%s&lon=%s&appid=%s&units=metric\" % (latitude, longitude, api_key)\n",
    "    weather = requests.get(url)\n",
    "    weather_data = json.loads(weather.text)\n",
    "    current = weather_data[\"current\"][\"clouds\"]\n",
    "    \n",
    "    # we will use a bool value to represent visibility, if it is more than 20% cloudy we will set this false.\n",
    "    \n",
    "    if current >20:\n",
    "        vis = False\n",
    "    else:\n",
    "        vis = True\n",
    "        \n",
    "    \n",
    "\n",
    "    row_vals = {\"Longitude\":longitude, \"Latitude\":latitude, \"Timestamp\": timestamp, \"Visibility\": vis}\n",
    "\n",
    "    ISS_data = ISS_data.append(row_vals, ignore_index = True)\n",
    "    \n",
    "   \n",
    "    time.sleep(600)\n"
   ]
  },
  {
   "cell_type": "markdown",
   "metadata": {},
   "source": [
    "### View the data"
   ]
  },
  {
   "cell_type": "code",
   "execution_count": 4,
   "metadata": {},
   "outputs": [
    {
     "data": {
      "text/html": [
       "<div>\n",
       "<style scoped>\n",
       "    .dataframe tbody tr th:only-of-type {\n",
       "        vertical-align: middle;\n",
       "    }\n",
       "\n",
       "    .dataframe tbody tr th {\n",
       "        vertical-align: top;\n",
       "    }\n",
       "\n",
       "    .dataframe thead th {\n",
       "        text-align: right;\n",
       "    }\n",
       "</style>\n",
       "<table border=\"1\" class=\"dataframe\">\n",
       "  <thead>\n",
       "    <tr style=\"text-align: right;\">\n",
       "      <th></th>\n",
       "      <th>Longitude</th>\n",
       "      <th>Latitude</th>\n",
       "      <th>Timestamp</th>\n",
       "      <th>Visibility</th>\n",
       "    </tr>\n",
       "  </thead>\n",
       "  <tbody>\n",
       "    <tr>\n",
       "      <th>0</th>\n",
       "      <td>60.5445</td>\n",
       "      <td>-51.3401</td>\n",
       "      <td>1645203834</td>\n",
       "      <td>False</td>\n",
       "    </tr>\n",
       "    <tr>\n",
       "      <th>1</th>\n",
       "      <td>113.1839</td>\n",
       "      <td>-40.7139</td>\n",
       "      <td>1645204435</td>\n",
       "      <td>True</td>\n",
       "    </tr>\n",
       "    <tr>\n",
       "      <th>2</th>\n",
       "      <td>142.5091</td>\n",
       "      <td>-13.6495</td>\n",
       "      <td>1645205037</td>\n",
       "      <td>False</td>\n",
       "    </tr>\n",
       "    <tr>\n",
       "      <th>3</th>\n",
       "      <td>164.6541</td>\n",
       "      <td>16.5408</td>\n",
       "      <td>1645205638</td>\n",
       "      <td>True</td>\n",
       "    </tr>\n",
       "    <tr>\n",
       "      <th>4</th>\n",
       "      <td>-164.2216</td>\n",
       "      <td>42.8491</td>\n",
       "      <td>1645206239</td>\n",
       "      <td>True</td>\n",
       "    </tr>\n",
       "    <tr>\n",
       "      <th>5</th>\n",
       "      <td>-109.5427</td>\n",
       "      <td>50.7175</td>\n",
       "      <td>1645206841</td>\n",
       "      <td>False</td>\n",
       "    </tr>\n",
       "    <tr>\n",
       "      <th>6</th>\n",
       "      <td>-65.7125</td>\n",
       "      <td>31.5722</td>\n",
       "      <td>1645207442</td>\n",
       "      <td>False</td>\n",
       "    </tr>\n",
       "    <tr>\n",
       "      <th>7</th>\n",
       "      <td>-41.0122</td>\n",
       "      <td>2.3697</td>\n",
       "      <td>1645208043</td>\n",
       "      <td>False</td>\n",
       "    </tr>\n",
       "    <tr>\n",
       "      <th>8</th>\n",
       "      <td>-17.5365</td>\n",
       "      <td>-27.3159</td>\n",
       "      <td>1645208644</td>\n",
       "      <td>True</td>\n",
       "    </tr>\n",
       "    <tr>\n",
       "      <th>9</th>\n",
       "      <td>21.8665</td>\n",
       "      <td>-49.0991</td>\n",
       "      <td>1645209245</td>\n",
       "      <td>False</td>\n",
       "    </tr>\n",
       "  </tbody>\n",
       "</table>\n",
       "</div>"
      ],
      "text/plain": [
       "   Longitude  Latitude   Timestamp Visibility\n",
       "0    60.5445  -51.3401  1645203834      False\n",
       "1   113.1839  -40.7139  1645204435       True\n",
       "2   142.5091  -13.6495  1645205037      False\n",
       "3   164.6541   16.5408  1645205638       True\n",
       "4  -164.2216   42.8491  1645206239       True\n",
       "5  -109.5427   50.7175  1645206841      False\n",
       "6   -65.7125   31.5722  1645207442      False\n",
       "7   -41.0122    2.3697  1645208043      False\n",
       "8   -17.5365  -27.3159  1645208644       True\n",
       "9    21.8665  -49.0991  1645209245      False"
      ]
     },
     "execution_count": 4,
     "metadata": {},
     "output_type": "execute_result"
    }
   ],
   "source": [
    "ISS_data.head(10)"
   ]
  },
  {
   "cell_type": "markdown",
   "metadata": {},
   "source": [
    "### Export the data"
   ]
  },
  {
   "cell_type": "code",
   "execution_count": 5,
   "metadata": {},
   "outputs": [],
   "source": [
    "ISS_data.to_csv('ISS_visibility', index=False)"
   ]
  },
  {
   "cell_type": "markdown",
   "metadata": {},
   "source": [
    "### Confirm the export was successful"
   ]
  },
  {
   "cell_type": "code",
   "execution_count": 6,
   "metadata": {},
   "outputs": [
    {
     "data": {
      "text/html": [
       "<div>\n",
       "<style scoped>\n",
       "    .dataframe tbody tr th:only-of-type {\n",
       "        vertical-align: middle;\n",
       "    }\n",
       "\n",
       "    .dataframe tbody tr th {\n",
       "        vertical-align: top;\n",
       "    }\n",
       "\n",
       "    .dataframe thead th {\n",
       "        text-align: right;\n",
       "    }\n",
       "</style>\n",
       "<table border=\"1\" class=\"dataframe\">\n",
       "  <thead>\n",
       "    <tr style=\"text-align: right;\">\n",
       "      <th></th>\n",
       "      <th>Longitude</th>\n",
       "      <th>Latitude</th>\n",
       "      <th>Timestamp</th>\n",
       "      <th>Visibility</th>\n",
       "    </tr>\n",
       "  </thead>\n",
       "  <tbody>\n",
       "    <tr>\n",
       "      <th>0</th>\n",
       "      <td>60.5445</td>\n",
       "      <td>-51.3401</td>\n",
       "      <td>1645203834</td>\n",
       "      <td>False</td>\n",
       "    </tr>\n",
       "    <tr>\n",
       "      <th>1</th>\n",
       "      <td>113.1839</td>\n",
       "      <td>-40.7139</td>\n",
       "      <td>1645204435</td>\n",
       "      <td>True</td>\n",
       "    </tr>\n",
       "    <tr>\n",
       "      <th>2</th>\n",
       "      <td>142.5091</td>\n",
       "      <td>-13.6495</td>\n",
       "      <td>1645205037</td>\n",
       "      <td>False</td>\n",
       "    </tr>\n",
       "    <tr>\n",
       "      <th>3</th>\n",
       "      <td>164.6541</td>\n",
       "      <td>16.5408</td>\n",
       "      <td>1645205638</td>\n",
       "      <td>True</td>\n",
       "    </tr>\n",
       "    <tr>\n",
       "      <th>4</th>\n",
       "      <td>-164.2216</td>\n",
       "      <td>42.8491</td>\n",
       "      <td>1645206239</td>\n",
       "      <td>True</td>\n",
       "    </tr>\n",
       "    <tr>\n",
       "      <th>5</th>\n",
       "      <td>-109.5427</td>\n",
       "      <td>50.7175</td>\n",
       "      <td>1645206841</td>\n",
       "      <td>False</td>\n",
       "    </tr>\n",
       "    <tr>\n",
       "      <th>6</th>\n",
       "      <td>-65.7125</td>\n",
       "      <td>31.5722</td>\n",
       "      <td>1645207442</td>\n",
       "      <td>False</td>\n",
       "    </tr>\n",
       "    <tr>\n",
       "      <th>7</th>\n",
       "      <td>-41.0122</td>\n",
       "      <td>2.3697</td>\n",
       "      <td>1645208043</td>\n",
       "      <td>False</td>\n",
       "    </tr>\n",
       "    <tr>\n",
       "      <th>8</th>\n",
       "      <td>-17.5365</td>\n",
       "      <td>-27.3159</td>\n",
       "      <td>1645208644</td>\n",
       "      <td>True</td>\n",
       "    </tr>\n",
       "    <tr>\n",
       "      <th>9</th>\n",
       "      <td>21.8665</td>\n",
       "      <td>-49.0991</td>\n",
       "      <td>1645209245</td>\n",
       "      <td>False</td>\n",
       "    </tr>\n",
       "  </tbody>\n",
       "</table>\n",
       "</div>"
      ],
      "text/plain": [
       "   Longitude  Latitude   Timestamp  Visibility\n",
       "0    60.5445  -51.3401  1645203834       False\n",
       "1   113.1839  -40.7139  1645204435        True\n",
       "2   142.5091  -13.6495  1645205037       False\n",
       "3   164.6541   16.5408  1645205638        True\n",
       "4  -164.2216   42.8491  1645206239        True\n",
       "5  -109.5427   50.7175  1645206841       False\n",
       "6   -65.7125   31.5722  1645207442       False\n",
       "7   -41.0122    2.3697  1645208043       False\n",
       "8   -17.5365  -27.3159  1645208644        True\n",
       "9    21.8665  -49.0991  1645209245       False"
      ]
     },
     "execution_count": 6,
     "metadata": {},
     "output_type": "execute_result"
    }
   ],
   "source": [
    "export_test = pd.read_csv('ISS_visibility')\n",
    "\n",
    "export_test.head(10)"
   ]
  },
  {
   "cell_type": "markdown",
   "metadata": {},
   "source": [
    "Now we can see the data was correctly saved to a .CSV file and can be loaded back into Python for future use!\n",
    "\n",
    "Thank you for following alog."
   ]
  }
 ],
 "metadata": {
  "kernelspec": {
   "display_name": "Python 3",
   "language": "python",
   "name": "python3"
  },
  "language_info": {
   "codemirror_mode": {
    "name": "ipython",
    "version": 3
   },
   "file_extension": ".py",
   "mimetype": "text/x-python",
   "name": "python",
   "nbconvert_exporter": "python",
   "pygments_lexer": "ipython3",
   "version": "3.8.5"
  }
 },
 "nbformat": 4,
 "nbformat_minor": 4
}
